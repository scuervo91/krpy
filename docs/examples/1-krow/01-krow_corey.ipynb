{
 "cells": [
  {
   "cell_type": "code",
   "execution_count": 1,
   "metadata": {},
   "outputs": [],
   "source": [
    "#krow"
   ]
  },
  {
   "cell_type": "code",
   "execution_count": 2,
   "metadata": {},
   "outputs": [],
   "source": [
    "from krpy import Corey, Krow, sw_denormalize\n",
    "import pandas as pd\n",
    "import numpy as np"
   ]
  },
  {
   "cell_type": "code",
   "execution_count": 3,
   "metadata": {},
   "outputs": [
    {
     "data": {
      "text/plain": [
       "Corey(nw=2.0, no=1.7, ng=2.0, npcwo=2.0, npcgo=2.0, krw_end=0.5, kro_end=1.0, krg_end=1.0, pco_end=10.0, pcg_end=0.0, pdwo=0.0, pdgo=0.0)"
      ]
     },
     "execution_count": 3,
     "metadata": {},
     "output_type": "execute_result"
    }
   ],
   "source": [
    "cor = Corey(nw=2, no=1.7, krw_end=0.5,kro_end=1.0, pco_end=10,npc=1.5, pd=2.0)\n",
    "cor"
   ]
  },
  {
   "cell_type": "code",
   "execution_count": 4,
   "metadata": {},
   "outputs": [
    {
     "name": "stderr",
     "output_type": "stream",
     "text": [
      "/Users/scuervo91/Documents/dev/krpy/krpy/kr.py:241: RuntimeWarning: divide by zero encountered in true_divide\n",
      "  kr_ratio = kro / krw\n"
     ]
    }
   ],
   "source": [
    "krow = Krow.from_corey(cor, swir=0.15, sor=0.1, n=20)"
   ]
  },
  {
   "cell_type": "code",
   "execution_count": 5,
   "metadata": {},
   "outputs": [
    {
     "data": {
      "text/html": [
       "<div>\n",
       "<style scoped>\n",
       "    .dataframe tbody tr th:only-of-type {\n",
       "        vertical-align: middle;\n",
       "    }\n",
       "\n",
       "    .dataframe tbody tr th {\n",
       "        vertical-align: top;\n",
       "    }\n",
       "\n",
       "    .dataframe thead th {\n",
       "        text-align: right;\n",
       "    }\n",
       "</style>\n",
       "<table border=\"1\" class=\"dataframe\">\n",
       "  <thead>\n",
       "    <tr style=\"text-align: right;\">\n",
       "      <th></th>\n",
       "      <th>krw</th>\n",
       "      <th>kro</th>\n",
       "      <th>pcwo</th>\n",
       "      <th>swn</th>\n",
       "      <th>kr_ratio</th>\n",
       "    </tr>\n",
       "    <tr>\n",
       "      <th>saturation</th>\n",
       "      <th></th>\n",
       "      <th></th>\n",
       "      <th></th>\n",
       "      <th></th>\n",
       "      <th></th>\n",
       "    </tr>\n",
       "  </thead>\n",
       "  <tbody>\n",
       "    <tr>\n",
       "      <th>0.150000</th>\n",
       "      <td>0.000000</td>\n",
       "      <td>1.000000</td>\n",
       "      <td>10.000000</td>\n",
       "      <td>0.000000</td>\n",
       "      <td>inf</td>\n",
       "    </tr>\n",
       "    <tr>\n",
       "      <th>0.189474</th>\n",
       "      <td>0.001385</td>\n",
       "      <td>0.912183</td>\n",
       "      <td>8.975069</td>\n",
       "      <td>0.052632</td>\n",
       "      <td>658.596373</td>\n",
       "    </tr>\n",
       "    <tr>\n",
       "      <th>0.228947</th>\n",
       "      <td>0.005540</td>\n",
       "      <td>0.827717</td>\n",
       "      <td>8.005540</td>\n",
       "      <td>0.105263</td>\n",
       "      <td>149.402977</td>\n",
       "    </tr>\n",
       "    <tr>\n",
       "      <th>0.268421</th>\n",
       "      <td>0.012465</td>\n",
       "      <td>0.746660</td>\n",
       "      <td>7.091413</td>\n",
       "      <td>0.157895</td>\n",
       "      <td>59.898719</td>\n",
       "    </tr>\n",
       "    <tr>\n",
       "      <th>0.307895</th>\n",
       "      <td>0.022161</td>\n",
       "      <td>0.669074</td>\n",
       "      <td>6.232687</td>\n",
       "      <td>0.210526</td>\n",
       "      <td>30.191955</td>\n",
       "    </tr>\n",
       "    <tr>\n",
       "      <th>0.347368</th>\n",
       "      <td>0.034626</td>\n",
       "      <td>0.595027</td>\n",
       "      <td>5.429363</td>\n",
       "      <td>0.263158</td>\n",
       "      <td>17.184374</td>\n",
       "    </tr>\n",
       "    <tr>\n",
       "      <th>0.386842</th>\n",
       "      <td>0.049861</td>\n",
       "      <td>0.524593</td>\n",
       "      <td>4.681440</td>\n",
       "      <td>0.315789</td>\n",
       "      <td>10.521006</td>\n",
       "    </tr>\n",
       "    <tr>\n",
       "      <th>0.426316</th>\n",
       "      <td>0.067867</td>\n",
       "      <td>0.457854</td>\n",
       "      <td>3.988920</td>\n",
       "      <td>0.368421</td>\n",
       "      <td>6.746338</td>\n",
       "    </tr>\n",
       "    <tr>\n",
       "      <th>0.465789</th>\n",
       "      <td>0.088643</td>\n",
       "      <td>0.394899</td>\n",
       "      <td>3.351801</td>\n",
       "      <td>0.421053</td>\n",
       "      <td>4.454959</td>\n",
       "    </tr>\n",
       "    <tr>\n",
       "      <th>0.505263</th>\n",
       "      <td>0.112188</td>\n",
       "      <td>0.335830</td>\n",
       "      <td>2.770083</td>\n",
       "      <td>0.473684</td>\n",
       "      <td>2.993443</td>\n",
       "    </tr>\n",
       "    <tr>\n",
       "      <th>0.544737</th>\n",
       "      <td>0.138504</td>\n",
       "      <td>0.280757</td>\n",
       "      <td>2.243767</td>\n",
       "      <td>0.526316</td>\n",
       "      <td>2.027068</td>\n",
       "    </tr>\n",
       "    <tr>\n",
       "      <th>0.584211</th>\n",
       "      <td>0.167590</td>\n",
       "      <td>0.229812</td>\n",
       "      <td>1.772853</td>\n",
       "      <td>0.578947</td>\n",
       "      <td>1.371272</td>\n",
       "    </tr>\n",
       "    <tr>\n",
       "      <th>0.623684</th>\n",
       "      <td>0.199446</td>\n",
       "      <td>0.183141</td>\n",
       "      <td>1.357341</td>\n",
       "      <td>0.631579</td>\n",
       "      <td>0.918249</td>\n",
       "    </tr>\n",
       "    <tr>\n",
       "      <th>0.663158</th>\n",
       "      <td>0.234072</td>\n",
       "      <td>0.140921</td>\n",
       "      <td>0.997230</td>\n",
       "      <td>0.684211</td>\n",
       "      <td>0.602042</td>\n",
       "    </tr>\n",
       "    <tr>\n",
       "      <th>0.702632</th>\n",
       "      <td>0.271468</td>\n",
       "      <td>0.103364</td>\n",
       "      <td>0.692521</td>\n",
       "      <td>0.736842</td>\n",
       "      <td>0.380758</td>\n",
       "    </tr>\n",
       "    <tr>\n",
       "      <th>0.742105</th>\n",
       "      <td>0.311634</td>\n",
       "      <td>0.070733</td>\n",
       "      <td>0.443213</td>\n",
       "      <td>0.789474</td>\n",
       "      <td>0.226974</td>\n",
       "    </tr>\n",
       "    <tr>\n",
       "      <th>0.781579</th>\n",
       "      <td>0.354571</td>\n",
       "      <td>0.043374</td>\n",
       "      <td>0.249307</td>\n",
       "      <td>0.842105</td>\n",
       "      <td>0.122327</td>\n",
       "    </tr>\n",
       "    <tr>\n",
       "      <th>0.821053</th>\n",
       "      <td>0.400277</td>\n",
       "      <td>0.021771</td>\n",
       "      <td>0.110803</td>\n",
       "      <td>0.894737</td>\n",
       "      <td>0.054389</td>\n",
       "    </tr>\n",
       "    <tr>\n",
       "      <th>0.860526</th>\n",
       "      <td>0.448753</td>\n",
       "      <td>0.006701</td>\n",
       "      <td>0.027701</td>\n",
       "      <td>0.947368</td>\n",
       "      <td>0.014932</td>\n",
       "    </tr>\n",
       "    <tr>\n",
       "      <th>0.900000</th>\n",
       "      <td>0.500000</td>\n",
       "      <td>0.000000</td>\n",
       "      <td>0.000000</td>\n",
       "      <td>1.000000</td>\n",
       "      <td>0.000000</td>\n",
       "    </tr>\n",
       "  </tbody>\n",
       "</table>\n",
       "</div>"
      ],
      "text/plain": [
       "                 krw       kro       pcwo       swn    kr_ratio\n",
       "saturation                                                     \n",
       "0.150000    0.000000  1.000000  10.000000  0.000000         inf\n",
       "0.189474    0.001385  0.912183   8.975069  0.052632  658.596373\n",
       "0.228947    0.005540  0.827717   8.005540  0.105263  149.402977\n",
       "0.268421    0.012465  0.746660   7.091413  0.157895   59.898719\n",
       "0.307895    0.022161  0.669074   6.232687  0.210526   30.191955\n",
       "0.347368    0.034626  0.595027   5.429363  0.263158   17.184374\n",
       "0.386842    0.049861  0.524593   4.681440  0.315789   10.521006\n",
       "0.426316    0.067867  0.457854   3.988920  0.368421    6.746338\n",
       "0.465789    0.088643  0.394899   3.351801  0.421053    4.454959\n",
       "0.505263    0.112188  0.335830   2.770083  0.473684    2.993443\n",
       "0.544737    0.138504  0.280757   2.243767  0.526316    2.027068\n",
       "0.584211    0.167590  0.229812   1.772853  0.578947    1.371272\n",
       "0.623684    0.199446  0.183141   1.357341  0.631579    0.918249\n",
       "0.663158    0.234072  0.140921   0.997230  0.684211    0.602042\n",
       "0.702632    0.271468  0.103364   0.692521  0.736842    0.380758\n",
       "0.742105    0.311634  0.070733   0.443213  0.789474    0.226974\n",
       "0.781579    0.354571  0.043374   0.249307  0.842105    0.122327\n",
       "0.821053    0.400277  0.021771   0.110803  0.894737    0.054389\n",
       "0.860526    0.448753  0.006701   0.027701  0.947368    0.014932\n",
       "0.900000    0.500000  0.000000   0.000000  1.000000    0.000000"
      ]
     },
     "execution_count": 5,
     "metadata": {},
     "output_type": "execute_result"
    }
   ],
   "source": [
    "df = krow.df()\n",
    "df"
   ]
  },
  {
   "cell_type": "code",
   "execution_count": null,
   "metadata": {},
   "outputs": [],
   "source": [
    "krow.plot(pc=True)"
   ]
  },
  {
   "cell_type": "code",
   "execution_count": null,
   "metadata": {},
   "outputs": [],
   "source": [
    "print(krow.to_ecl())"
   ]
  },
  {
   "cell_type": "code",
   "execution_count": null,
   "metadata": {},
   "outputs": [],
   "source": [
    "krow.interpolate(0.5)"
   ]
  },
  {
   "cell_type": "code",
   "execution_count": null,
   "metadata": {},
   "outputs": [],
   "source": [
    "krow.get_height(rhoo=51.2)\n",
    "krow.df().plot(y='height')"
   ]
  },
  {
   "cell_type": "code",
   "execution_count": null,
   "metadata": {},
   "outputs": [],
   "source": [
    "Corey.fit(df.reset_index(),sw='saturation',kro='kro', swir=0.15, sor=0.1)"
   ]
  },
  {
   "cell_type": "code",
   "execution_count": null,
   "metadata": {},
   "outputs": [],
   "source": [
    "df['krw']"
   ]
  },
  {
   "cell_type": "code",
   "execution_count": null,
   "metadata": {},
   "outputs": [],
   "source": [
    "krow.df()"
   ]
  }
 ],
 "metadata": {
  "kernelspec": {
   "display_name": "Python 3.8.12 ('krpy')",
   "language": "python",
   "name": "python3"
  },
  "language_info": {
   "codemirror_mode": {
    "name": "ipython",
    "version": 3
   },
   "file_extension": ".py",
   "mimetype": "text/x-python",
   "name": "python",
   "nbconvert_exporter": "python",
   "pygments_lexer": "ipython3",
   "version": "3.8.12"
  },
  "orig_nbformat": 4,
  "vscode": {
   "interpreter": {
    "hash": "27de0d9a974e089f1404f67a7777ec6cb898dc3bae606e37225de551c3f51b12"
   }
  }
 },
 "nbformat": 4,
 "nbformat_minor": 2
}
