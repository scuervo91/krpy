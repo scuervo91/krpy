{
 "cells": [
  {
   "cell_type": "code",
   "execution_count": 1,
   "metadata": {},
   "outputs": [],
   "source": [
    "#krow"
   ]
  },
  {
   "cell_type": "code",
   "execution_count": 2,
   "metadata": {},
   "outputs": [],
   "source": [
    "from krpy import Corey, Krog, sg_denormalize, sg_normalize\n",
    "import pandas as pd\n",
    "import numpy as np"
   ]
  },
  {
   "cell_type": "code",
   "execution_count": 3,
   "metadata": {},
   "outputs": [
    {
     "data": {
      "text/plain": [
       "Corey(nw=2.0, no=2.0, ng=1.7, npcwo=2.0, npcgo=2.0, krw_end=1.0, kro_end=0.9, krg_end=0.5, pco_end=0.0, pcg_end=0.0, pdwo=0.0, pdgo=0.0)"
      ]
     },
     "execution_count": 3,
     "metadata": {},
     "output_type": "execute_result"
    }
   ],
   "source": [
    "cor = Corey(no=2, ng=1.7, krg_end=0.5,kro_end=0.9, pcg_end=0,npc=1.0, pd=2.0)\n",
    "cor"
   ]
  },
  {
   "cell_type": "code",
   "execution_count": 4,
   "metadata": {},
   "outputs": [
    {
     "name": "stderr",
     "output_type": "stream",
     "text": [
      "/Users/scuervo91/Documents/dev/krpy/krpy/kr.py:209: RuntimeWarning: divide by zero encountered in true_divide\n",
      "  kr_ratio = krg / kro\n"
     ]
    }
   ],
   "source": [
    "krog = Krog.from_corey(cor, swir=0.15, sor=0.1,sgc=0.02, n=10)"
   ]
  },
  {
   "cell_type": "code",
   "execution_count": 5,
   "metadata": {},
   "outputs": [
    {
     "data": {
      "text/html": [
       "<div>\n",
       "<style scoped>\n",
       "    .dataframe tbody tr th:only-of-type {\n",
       "        vertical-align: middle;\n",
       "    }\n",
       "\n",
       "    .dataframe tbody tr th {\n",
       "        vertical-align: top;\n",
       "    }\n",
       "\n",
       "    .dataframe thead th {\n",
       "        text-align: right;\n",
       "    }\n",
       "</style>\n",
       "<table border=\"1\" class=\"dataframe\">\n",
       "  <thead>\n",
       "    <tr style=\"text-align: right;\">\n",
       "      <th></th>\n",
       "      <th>krg</th>\n",
       "      <th>kro</th>\n",
       "      <th>pcgo</th>\n",
       "      <th>sgn</th>\n",
       "      <th>kr_ratio</th>\n",
       "    </tr>\n",
       "    <tr>\n",
       "      <th>saturation</th>\n",
       "      <th></th>\n",
       "      <th></th>\n",
       "      <th></th>\n",
       "      <th></th>\n",
       "      <th></th>\n",
       "    </tr>\n",
       "  </thead>\n",
       "  <tbody>\n",
       "    <tr>\n",
       "      <th>0.150000</th>\n",
       "      <td>0.000000</td>\n",
       "      <td>0.900000</td>\n",
       "      <td>0.0</td>\n",
       "      <td>0.000000</td>\n",
       "      <td>0.000000</td>\n",
       "    </tr>\n",
       "    <tr>\n",
       "      <th>0.231111</th>\n",
       "      <td>0.011933</td>\n",
       "      <td>0.711111</td>\n",
       "      <td>0.0</td>\n",
       "      <td>0.111111</td>\n",
       "      <td>0.016781</td>\n",
       "    </tr>\n",
       "    <tr>\n",
       "      <th>0.312222</th>\n",
       "      <td>0.038771</td>\n",
       "      <td>0.544444</td>\n",
       "      <td>0.0</td>\n",
       "      <td>0.222222</td>\n",
       "      <td>0.071212</td>\n",
       "    </tr>\n",
       "    <tr>\n",
       "      <th>0.393333</th>\n",
       "      <td>0.077244</td>\n",
       "      <td>0.400000</td>\n",
       "      <td>0.0</td>\n",
       "      <td>0.333333</td>\n",
       "      <td>0.193110</td>\n",
       "    </tr>\n",
       "    <tr>\n",
       "      <th>0.474444</th>\n",
       "      <td>0.125968</td>\n",
       "      <td>0.277778</td>\n",
       "      <td>0.0</td>\n",
       "      <td>0.444444</td>\n",
       "      <td>0.453484</td>\n",
       "    </tr>\n",
       "    <tr>\n",
       "      <th>0.555556</th>\n",
       "      <td>0.184080</td>\n",
       "      <td>0.177778</td>\n",
       "      <td>0.0</td>\n",
       "      <td>0.555556</td>\n",
       "      <td>1.035450</td>\n",
       "    </tr>\n",
       "    <tr>\n",
       "      <th>0.636667</th>\n",
       "      <td>0.250966</td>\n",
       "      <td>0.100000</td>\n",
       "      <td>0.0</td>\n",
       "      <td>0.666667</td>\n",
       "      <td>2.509660</td>\n",
       "    </tr>\n",
       "    <tr>\n",
       "      <th>0.717778</th>\n",
       "      <td>0.326155</td>\n",
       "      <td>0.044444</td>\n",
       "      <td>0.0</td>\n",
       "      <td>0.777778</td>\n",
       "      <td>7.338494</td>\n",
       "    </tr>\n",
       "    <tr>\n",
       "      <th>0.798889</th>\n",
       "      <td>0.409271</td>\n",
       "      <td>0.011111</td>\n",
       "      <td>0.0</td>\n",
       "      <td>0.888889</td>\n",
       "      <td>36.834368</td>\n",
       "    </tr>\n",
       "    <tr>\n",
       "      <th>0.880000</th>\n",
       "      <td>0.500000</td>\n",
       "      <td>0.000000</td>\n",
       "      <td>0.0</td>\n",
       "      <td>1.000000</td>\n",
       "      <td>inf</td>\n",
       "    </tr>\n",
       "  </tbody>\n",
       "</table>\n",
       "</div>"
      ],
      "text/plain": [
       "                 krg       kro  pcgo       sgn   kr_ratio\n",
       "saturation                                               \n",
       "0.150000    0.000000  0.900000   0.0  0.000000   0.000000\n",
       "0.231111    0.011933  0.711111   0.0  0.111111   0.016781\n",
       "0.312222    0.038771  0.544444   0.0  0.222222   0.071212\n",
       "0.393333    0.077244  0.400000   0.0  0.333333   0.193110\n",
       "0.474444    0.125968  0.277778   0.0  0.444444   0.453484\n",
       "0.555556    0.184080  0.177778   0.0  0.555556   1.035450\n",
       "0.636667    0.250966  0.100000   0.0  0.666667   2.509660\n",
       "0.717778    0.326155  0.044444   0.0  0.777778   7.338494\n",
       "0.798889    0.409271  0.011111   0.0  0.888889  36.834368\n",
       "0.880000    0.500000  0.000000   0.0  1.000000        inf"
      ]
     },
     "execution_count": 5,
     "metadata": {},
     "output_type": "execute_result"
    }
   ],
   "source": [
    "df = krog.df()\n",
    "df"
   ]
  },
  {
   "cell_type": "code",
   "execution_count": null,
   "metadata": {},
   "outputs": [],
   "source": [
    "krow.plot(pc=True)"
   ]
  },
  {
   "cell_type": "code",
   "execution_count": null,
   "metadata": {},
   "outputs": [],
   "source": [
    "print(krow.to_ecl())"
   ]
  },
  {
   "cell_type": "code",
   "execution_count": null,
   "metadata": {},
   "outputs": [],
   "source": [
    "krow.interpolate(0.5)"
   ]
  },
  {
   "cell_type": "code",
   "execution_count": null,
   "metadata": {},
   "outputs": [],
   "source": [
    "krow.get_height(rhoo=51.2)\n",
    "krow.df().plot(y='height')"
   ]
  },
  {
   "cell_type": "code",
   "execution_count": null,
   "metadata": {},
   "outputs": [],
   "source": [
    "Corey.fit(df.reset_index(),sw='saturation',kro='kro', swir=0.15, sor=0.1)"
   ]
  },
  {
   "cell_type": "code",
   "execution_count": null,
   "metadata": {},
   "outputs": [],
   "source": [
    "df['krw']"
   ]
  },
  {
   "cell_type": "code",
   "execution_count": null,
   "metadata": {},
   "outputs": [],
   "source": [
    "krow.df()"
   ]
  }
 ],
 "metadata": {
  "kernelspec": {
   "display_name": "Python 3.8.12 ('krpy')",
   "language": "python",
   "name": "python3"
  },
  "language_info": {
   "codemirror_mode": {
    "name": "ipython",
    "version": 3
   },
   "file_extension": ".py",
   "mimetype": "text/x-python",
   "name": "python",
   "nbconvert_exporter": "python",
   "pygments_lexer": "ipython3",
   "version": "3.8.12"
  },
  "orig_nbformat": 4,
  "vscode": {
   "interpreter": {
    "hash": "27de0d9a974e089f1404f67a7777ec6cb898dc3bae606e37225de551c3f51b12"
   }
  }
 },
 "nbformat": 4,
 "nbformat_minor": 2
}
