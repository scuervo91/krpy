{
 "cells": [
  {
   "cell_type": "code",
   "execution_count": 1,
   "metadata": {},
   "outputs": [],
   "source": [
    "#krow"
   ]
  },
  {
   "cell_type": "code",
   "execution_count": 2,
   "metadata": {},
   "outputs": [],
   "source": [
    "from krpy import Corey, Krog, sg_denormalize, sg_normalize\n",
    "import pandas as pd\n",
    "import numpy as np"
   ]
  },
  {
   "cell_type": "code",
   "execution_count": 3,
   "metadata": {},
   "outputs": [
    {
     "data": {
      "text/plain": [
       "Corey(nw=2.0, no=2.0, ng=1.7, npcwo=2.0, npcog=2.0, krw_end=1.0, kro_end=0.98, krg_end=0.2, pco_end=0.0, pcg_end=0.0, pdwo=0.0, pdog=0.0)"
      ]
     },
     "execution_count": 3,
     "metadata": {},
     "output_type": "execute_result"
    }
   ],
   "source": [
    "cor = Corey(no=2, ng=1.7, krg_end=0.2,kro_end=0.98, pcg_end=0,npc=1.0, pd=2.0)\n",
    "cor"
   ]
  },
  {
   "cell_type": "code",
   "execution_count": 4,
   "metadata": {},
   "outputs": [
    {
     "name": "stderr",
     "output_type": "stream",
     "text": [
      "/Users/scuervo91/Documents/dev/krpy/krpy/kr.py:209: RuntimeWarning: divide by zero encountered in true_divide\n",
      "  kr_ratio = krg / kro\n"
     ]
    }
   ],
   "source": [
    "krog = Krog.from_corey(cor, swir=0.22, sor=0.1,sgc=0.1, n=10)"
   ]
  },
  {
   "cell_type": "code",
   "execution_count": 5,
   "metadata": {},
   "outputs": [
    {
     "data": {
      "text/html": [
       "<div>\n",
       "<style scoped>\n",
       "    .dataframe tbody tr th:only-of-type {\n",
       "        vertical-align: middle;\n",
       "    }\n",
       "\n",
       "    .dataframe tbody tr th {\n",
       "        vertical-align: top;\n",
       "    }\n",
       "\n",
       "    .dataframe thead th {\n",
       "        text-align: right;\n",
       "    }\n",
       "</style>\n",
       "<table border=\"1\" class=\"dataframe\">\n",
       "  <thead>\n",
       "    <tr style=\"text-align: right;\">\n",
       "      <th></th>\n",
       "      <th>krg</th>\n",
       "      <th>kro</th>\n",
       "      <th>pcog</th>\n",
       "      <th>sgn</th>\n",
       "      <th>kr_ratio</th>\n",
       "    </tr>\n",
       "    <tr>\n",
       "      <th>saturation</th>\n",
       "      <th></th>\n",
       "      <th></th>\n",
       "      <th></th>\n",
       "      <th></th>\n",
       "      <th></th>\n",
       "    </tr>\n",
       "  </thead>\n",
       "  <tbody>\n",
       "    <tr>\n",
       "      <th>0.100000</th>\n",
       "      <td>0.000000</td>\n",
       "      <td>0.980000</td>\n",
       "      <td>0.0</td>\n",
       "      <td>0.000000</td>\n",
       "      <td>0.000000</td>\n",
       "    </tr>\n",
       "    <tr>\n",
       "      <th>0.164444</th>\n",
       "      <td>0.004773</td>\n",
       "      <td>0.774321</td>\n",
       "      <td>0.0</td>\n",
       "      <td>0.111111</td>\n",
       "      <td>0.006164</td>\n",
       "    </tr>\n",
       "    <tr>\n",
       "      <th>0.228889</th>\n",
       "      <td>0.015508</td>\n",
       "      <td>0.592840</td>\n",
       "      <td>0.0</td>\n",
       "      <td>0.222222</td>\n",
       "      <td>0.026160</td>\n",
       "    </tr>\n",
       "    <tr>\n",
       "      <th>0.293333</th>\n",
       "      <td>0.030898</td>\n",
       "      <td>0.435556</td>\n",
       "      <td>0.0</td>\n",
       "      <td>0.333333</td>\n",
       "      <td>0.070938</td>\n",
       "    </tr>\n",
       "    <tr>\n",
       "      <th>0.357778</th>\n",
       "      <td>0.050387</td>\n",
       "      <td>0.302469</td>\n",
       "      <td>0.0</td>\n",
       "      <td>0.444444</td>\n",
       "      <td>0.166586</td>\n",
       "    </tr>\n",
       "    <tr>\n",
       "      <th>0.422222</th>\n",
       "      <td>0.073632</td>\n",
       "      <td>0.193580</td>\n",
       "      <td>0.0</td>\n",
       "      <td>0.555556</td>\n",
       "      <td>0.380370</td>\n",
       "    </tr>\n",
       "    <tr>\n",
       "      <th>0.486667</th>\n",
       "      <td>0.100386</td>\n",
       "      <td>0.108889</td>\n",
       "      <td>0.0</td>\n",
       "      <td>0.666667</td>\n",
       "      <td>0.921916</td>\n",
       "    </tr>\n",
       "    <tr>\n",
       "      <th>0.551111</th>\n",
       "      <td>0.130462</td>\n",
       "      <td>0.048395</td>\n",
       "      <td>0.0</td>\n",
       "      <td>0.777778</td>\n",
       "      <td>2.695773</td>\n",
       "    </tr>\n",
       "    <tr>\n",
       "      <th>0.615556</th>\n",
       "      <td>0.163708</td>\n",
       "      <td>0.012099</td>\n",
       "      <td>0.0</td>\n",
       "      <td>0.888889</td>\n",
       "      <td>13.530992</td>\n",
       "    </tr>\n",
       "    <tr>\n",
       "      <th>0.680000</th>\n",
       "      <td>0.200000</td>\n",
       "      <td>0.000000</td>\n",
       "      <td>0.0</td>\n",
       "      <td>1.000000</td>\n",
       "      <td>inf</td>\n",
       "    </tr>\n",
       "  </tbody>\n",
       "</table>\n",
       "</div>"
      ],
      "text/plain": [
       "                 krg       kro  pcog       sgn   kr_ratio\n",
       "saturation                                               \n",
       "0.100000    0.000000  0.980000   0.0  0.000000   0.000000\n",
       "0.164444    0.004773  0.774321   0.0  0.111111   0.006164\n",
       "0.228889    0.015508  0.592840   0.0  0.222222   0.026160\n",
       "0.293333    0.030898  0.435556   0.0  0.333333   0.070938\n",
       "0.357778    0.050387  0.302469   0.0  0.444444   0.166586\n",
       "0.422222    0.073632  0.193580   0.0  0.555556   0.380370\n",
       "0.486667    0.100386  0.108889   0.0  0.666667   0.921916\n",
       "0.551111    0.130462  0.048395   0.0  0.777778   2.695773\n",
       "0.615556    0.163708  0.012099   0.0  0.888889  13.530992\n",
       "0.680000    0.200000  0.000000   0.0  1.000000        inf"
      ]
     },
     "execution_count": 5,
     "metadata": {},
     "output_type": "execute_result"
    }
   ],
   "source": [
    "df = krog.df()\n",
    "df"
   ]
  },
  {
   "cell_type": "code",
   "execution_count": 6,
   "metadata": {},
   "outputs": [
    {
     "name": "stdout",
     "output_type": "stream",
     "text": [
      "SGOF\n",
      "0.100000 0.000000 0.980000 0.0\n",
      "0.164444 0.004773 0.774321 0.0\n",
      "0.228889 0.015508 0.592840 0.0\n",
      "0.293333 0.030898 0.435556 0.0\n",
      "0.357778 0.050387 0.302469 0.0\n",
      "0.422222 0.073632 0.193580 0.0\n",
      "0.486667 0.100386 0.108889 0.0\n",
      "0.551111 0.130462 0.048395 0.0\n",
      "0.615556 0.163708 0.012099 0.0\n",
      "0.680000 0.200000 0.000000 0.0/\n",
      "\n"
     ]
    }
   ],
   "source": [
    "print(krog.to_ecl())"
   ]
  },
  {
   "cell_type": "code",
   "execution_count": 7,
   "metadata": {},
   "outputs": [
    {
     "data": {
      "text/html": [
       "<div>\n",
       "<style scoped>\n",
       "    .dataframe tbody tr th:only-of-type {\n",
       "        vertical-align: middle;\n",
       "    }\n",
       "\n",
       "    .dataframe tbody tr th {\n",
       "        vertical-align: top;\n",
       "    }\n",
       "\n",
       "    .dataframe thead th {\n",
       "        text-align: right;\n",
       "    }\n",
       "</style>\n",
       "<table border=\"1\" class=\"dataframe\">\n",
       "  <thead>\n",
       "    <tr style=\"text-align: right;\">\n",
       "      <th></th>\n",
       "      <th>krg</th>\n",
       "      <th>kro</th>\n",
       "      <th>pcog</th>\n",
       "      <th>sgn</th>\n",
       "      <th>kr_ratio</th>\n",
       "    </tr>\n",
       "    <tr>\n",
       "      <th>saturation</th>\n",
       "      <th></th>\n",
       "      <th></th>\n",
       "      <th></th>\n",
       "      <th></th>\n",
       "      <th></th>\n",
       "    </tr>\n",
       "  </thead>\n",
       "  <tbody>\n",
       "    <tr>\n",
       "      <th>0.5</th>\n",
       "      <td>0.106609</td>\n",
       "      <td>0.096373</td>\n",
       "      <td>0.0</td>\n",
       "      <td>0.689655</td>\n",
       "      <td>1.288921</td>\n",
       "    </tr>\n",
       "  </tbody>\n",
       "</table>\n",
       "</div>"
      ],
      "text/plain": [
       "                 krg       kro  pcog       sgn  kr_ratio\n",
       "saturation                                              \n",
       "0.5         0.106609  0.096373   0.0  0.689655  1.288921"
      ]
     },
     "execution_count": 7,
     "metadata": {},
     "output_type": "execute_result"
    }
   ],
   "source": [
    "krog.interpolate(0.5)"
   ]
  },
  {
   "cell_type": "code",
   "execution_count": 9,
   "metadata": {},
   "outputs": [
    {
     "data": {
      "text/plain": [
       "[<AxesSubplot:xlabel='Gas Saturation []', ylabel='Kr []'>]"
      ]
     },
     "execution_count": 9,
     "metadata": {},
     "output_type": "execute_result"
    },
    {
     "data": {
      "image/png": "[encoded data removed]",
      "text/plain": [
       "<Figure size 432x288 with 1 Axes>"
      ]
     },
     "metadata": {
      "needs_background": "light"
     },
     "output_type": "display_data"
    }
   ],
   "source": [
    "krog.plot(norm=True)"
   ]
  }
 ],
 "metadata": {
  "kernelspec": {
   "display_name": "Python 3.8.12 ('krpy')",
   "language": "python",
   "name": "python3"
  },
  "language_info": {
   "codemirror_mode": {
    "name": "ipython",
    "version": 3
   },
   "file_extension": ".py",
   "mimetype": "text/x-python",
   "name": "python",
   "nbconvert_exporter": "python",
   "pygments_lexer": "ipython3",
   "version": "3.8.12"
  },
  "orig_nbformat": 4,
  "vscode": {
   "interpreter": {
    "hash": "27de0d9a974e089f1404f67a7777ec6cb898dc3bae606e37225de551c3f51b12"
   }
  }
 },
 "nbformat": 4,
 "nbformat_minor": 2
}
